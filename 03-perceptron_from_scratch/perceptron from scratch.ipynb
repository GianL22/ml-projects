{
  "cells": [
    {
      "cell_type": "markdown",
      "source": [
        "# FIA - Proyecto 1 Carlos Fornari y Gianfranco Lanza"
      ],
      "metadata": {
        "id": "xAnLs0wSHXB6"
      }
    },
    {
      "cell_type": "code",
      "execution_count": null,
      "metadata": {
        "id": "NE2guwFPILzX"
      },
      "outputs": [],
      "source": [
        "import random\n",
        "import numpy as np\n",
        "import matplotlib.pyplot as plt\n",
        "import pandas as pd\n",
        "import seaborn as sns\n",
        "from sklearn.model_selection import train_test_split\n",
        "from sklearn.linear_model import Perceptron as SklearnPerceptron\n",
        "from sklearn.linear_model import LinearRegression\n",
        "from sklearn.datasets import load_wine\n",
        "from sklearn.preprocessing import StandardScaler, MinMaxScaler\n",
        "from sklearn.metrics import classification_report, ConfusionMatrixDisplay, confusion_matrix, mean_squared_error"
      ]
    },
    {
      "cell_type": "markdown",
      "metadata": {
        "id": "-Rz6uxWsILzY"
      },
      "source": [
        "## Clasificación"
      ]
    },
    {
      "cell_type": "markdown",
      "metadata": {
        "id": "oZcNGpPRILzZ"
      },
      "source": [
        "### I. Carga del dataset Wine\n"
      ]
    },
    {
      "cell_type": "code",
      "execution_count": null,
      "metadata": {
        "colab": {
          "base_uri": "https://localhost:8080/",
          "height": 443
        },
        "id": "xggeOf1FILzZ",
        "outputId": "2d0f6a32-0562-419a-83c9-7f4c708e0113"
      },
      "outputs": [
        {
          "output_type": "execute_result",
          "data": {
            "text/plain": [
              "     alcohol  malic_acid   ash  alcalinity_of_ash  magnesium  total_phenols  \\\n",
              "0      14.23        1.71  2.43               15.6      127.0           2.80   \n",
              "1      13.20        1.78  2.14               11.2      100.0           2.65   \n",
              "2      13.16        2.36  2.67               18.6      101.0           2.80   \n",
              "3      14.37        1.95  2.50               16.8      113.0           3.85   \n",
              "4      13.24        2.59  2.87               21.0      118.0           2.80   \n",
              "..       ...         ...   ...                ...        ...            ...   \n",
              "173    13.71        5.65  2.45               20.5       95.0           1.68   \n",
              "174    13.40        3.91  2.48               23.0      102.0           1.80   \n",
              "175    13.27        4.28  2.26               20.0      120.0           1.59   \n",
              "176    13.17        2.59  2.37               20.0      120.0           1.65   \n",
              "177    14.13        4.10  2.74               24.5       96.0           2.05   \n",
              "\n",
              "     flavanoids  nonflavanoid_phenols  proanthocyanins  color_intensity   hue  \\\n",
              "0          3.06                  0.28             2.29             5.64  1.04   \n",
              "1          2.76                  0.26             1.28             4.38  1.05   \n",
              "2          3.24                  0.30             2.81             5.68  1.03   \n",
              "3          3.49                  0.24             2.18             7.80  0.86   \n",
              "4          2.69                  0.39             1.82             4.32  1.04   \n",
              "..          ...                   ...              ...              ...   ...   \n",
              "173        0.61                  0.52             1.06             7.70  0.64   \n",
              "174        0.75                  0.43             1.41             7.30  0.70   \n",
              "175        0.69                  0.43             1.35            10.20  0.59   \n",
              "176        0.68                  0.53             1.46             9.30  0.60   \n",
              "177        0.76                  0.56             1.35             9.20  0.61   \n",
              "\n",
              "     od280/od315_of_diluted_wines  proline  targets  \n",
              "0                            3.92   1065.0      0.0  \n",
              "1                            3.40   1050.0      0.0  \n",
              "2                            3.17   1185.0      0.0  \n",
              "3                            3.45   1480.0      0.0  \n",
              "4                            2.93    735.0      0.0  \n",
              "..                            ...      ...      ...  \n",
              "173                          1.74    740.0      2.0  \n",
              "174                          1.56    750.0      2.0  \n",
              "175                          1.56    835.0      2.0  \n",
              "176                          1.62    840.0      2.0  \n",
              "177                          1.60    560.0      2.0  \n",
              "\n",
              "[178 rows x 14 columns]"
            ],
            "text/html": [
              "\n",
              "  <div id=\"df-ab8179ec-43bd-4558-8795-15bbe5f19bc0\" class=\"colab-df-container\">\n",
              "    <div>\n",
              "<style scoped>\n",
              "    .dataframe tbody tr th:only-of-type {\n",
              "        vertical-align: middle;\n",
              "    }\n",
              "\n",
              "    .dataframe tbody tr th {\n",
              "        vertical-align: top;\n",
              "    }\n",
              "\n",
              "    .dataframe thead th {\n",
              "        text-align: right;\n",
              "    }\n",
              "</style>\n",
              "<table border=\"1\" class=\"dataframe\">\n",
              "  <thead>\n",
              "    <tr style=\"text-align: right;\">\n",
              "      <th></th>\n",
              "      <th>alcohol</th>\n",
              "      <th>malic_acid</th>\n",
              "      <th>ash</th>\n",
              "      <th>alcalinity_of_ash</th>\n",
              "      <th>magnesium</th>\n",
              "      <th>total_phenols</th>\n",
              "      <th>flavanoids</th>\n",
              "      <th>nonflavanoid_phenols</th>\n",
              "      <th>proanthocyanins</th>\n",
              "      <th>color_intensity</th>\n",
              "      <th>hue</th>\n",
              "      <th>od280/od315_of_diluted_wines</th>\n",
              "      <th>proline</th>\n",
              "      <th>targets</th>\n",
              "    </tr>\n",
              "  </thead>\n",
              "  <tbody>\n",
              "    <tr>\n",
              "      <th>0</th>\n",
              "      <td>14.23</td>\n",
              "      <td>1.71</td>\n",
              "      <td>2.43</td>\n",
              "      <td>15.6</td>\n",
              "      <td>127.0</td>\n",
              "      <td>2.80</td>\n",
              "      <td>3.06</td>\n",
              "      <td>0.28</td>\n",
              "      <td>2.29</td>\n",
              "      <td>5.64</td>\n",
              "      <td>1.04</td>\n",
              "      <td>3.92</td>\n",
              "      <td>1065.0</td>\n",
              "      <td>0.0</td>\n",
              "    </tr>\n",
              "    <tr>\n",
              "      <th>1</th>\n",
              "      <td>13.20</td>\n",
              "      <td>1.78</td>\n",
              "      <td>2.14</td>\n",
              "      <td>11.2</td>\n",
              "      <td>100.0</td>\n",
              "      <td>2.65</td>\n",
              "      <td>2.76</td>\n",
              "      <td>0.26</td>\n",
              "      <td>1.28</td>\n",
              "      <td>4.38</td>\n",
              "      <td>1.05</td>\n",
              "      <td>3.40</td>\n",
              "      <td>1050.0</td>\n",
              "      <td>0.0</td>\n",
              "    </tr>\n",
              "    <tr>\n",
              "      <th>2</th>\n",
              "      <td>13.16</td>\n",
              "      <td>2.36</td>\n",
              "      <td>2.67</td>\n",
              "      <td>18.6</td>\n",
              "      <td>101.0</td>\n",
              "      <td>2.80</td>\n",
              "      <td>3.24</td>\n",
              "      <td>0.30</td>\n",
              "      <td>2.81</td>\n",
              "      <td>5.68</td>\n",
              "      <td>1.03</td>\n",
              "      <td>3.17</td>\n",
              "      <td>1185.0</td>\n",
              "      <td>0.0</td>\n",
              "    </tr>\n",
              "    <tr>\n",
              "      <th>3</th>\n",
              "      <td>14.37</td>\n",
              "      <td>1.95</td>\n",
              "      <td>2.50</td>\n",
              "      <td>16.8</td>\n",
              "      <td>113.0</td>\n",
              "      <td>3.85</td>\n",
              "      <td>3.49</td>\n",
              "      <td>0.24</td>\n",
              "      <td>2.18</td>\n",
              "      <td>7.80</td>\n",
              "      <td>0.86</td>\n",
              "      <td>3.45</td>\n",
              "      <td>1480.0</td>\n",
              "      <td>0.0</td>\n",
              "    </tr>\n",
              "    <tr>\n",
              "      <th>4</th>\n",
              "      <td>13.24</td>\n",
              "      <td>2.59</td>\n",
              "      <td>2.87</td>\n",
              "      <td>21.0</td>\n",
              "      <td>118.0</td>\n",
              "      <td>2.80</td>\n",
              "      <td>2.69</td>\n",
              "      <td>0.39</td>\n",
              "      <td>1.82</td>\n",
              "      <td>4.32</td>\n",
              "      <td>1.04</td>\n",
              "      <td>2.93</td>\n",
              "      <td>735.0</td>\n",
              "      <td>0.0</td>\n",
              "    </tr>\n",
              "    <tr>\n",
              "      <th>...</th>\n",
              "      <td>...</td>\n",
              "      <td>...</td>\n",
              "      <td>...</td>\n",
              "      <td>...</td>\n",
              "      <td>...</td>\n",
              "      <td>...</td>\n",
              "      <td>...</td>\n",
              "      <td>...</td>\n",
              "      <td>...</td>\n",
              "      <td>...</td>\n",
              "      <td>...</td>\n",
              "      <td>...</td>\n",
              "      <td>...</td>\n",
              "      <td>...</td>\n",
              "    </tr>\n",
              "    <tr>\n",
              "      <th>173</th>\n",
              "      <td>13.71</td>\n",
              "      <td>5.65</td>\n",
              "      <td>2.45</td>\n",
              "      <td>20.5</td>\n",
              "      <td>95.0</td>\n",
              "      <td>1.68</td>\n",
              "      <td>0.61</td>\n",
              "      <td>0.52</td>\n",
              "      <td>1.06</td>\n",
              "      <td>7.70</td>\n",
              "      <td>0.64</td>\n",
              "      <td>1.74</td>\n",
              "      <td>740.0</td>\n",
              "      <td>2.0</td>\n",
              "    </tr>\n",
              "    <tr>\n",
              "      <th>174</th>\n",
              "      <td>13.40</td>\n",
              "      <td>3.91</td>\n",
              "      <td>2.48</td>\n",
              "      <td>23.0</td>\n",
              "      <td>102.0</td>\n",
              "      <td>1.80</td>\n",
              "      <td>0.75</td>\n",
              "      <td>0.43</td>\n",
              "      <td>1.41</td>\n",
              "      <td>7.30</td>\n",
              "      <td>0.70</td>\n",
              "      <td>1.56</td>\n",
              "      <td>750.0</td>\n",
              "      <td>2.0</td>\n",
              "    </tr>\n",
              "    <tr>\n",
              "      <th>175</th>\n",
              "      <td>13.27</td>\n",
              "      <td>4.28</td>\n",
              "      <td>2.26</td>\n",
              "      <td>20.0</td>\n",
              "      <td>120.0</td>\n",
              "      <td>1.59</td>\n",
              "      <td>0.69</td>\n",
              "      <td>0.43</td>\n",
              "      <td>1.35</td>\n",
              "      <td>10.20</td>\n",
              "      <td>0.59</td>\n",
              "      <td>1.56</td>\n",
              "      <td>835.0</td>\n",
              "      <td>2.0</td>\n",
              "    </tr>\n",
              "    <tr>\n",
              "      <th>176</th>\n",
              "      <td>13.17</td>\n",
              "      <td>2.59</td>\n",
              "      <td>2.37</td>\n",
              "      <td>20.0</td>\n",
              "      <td>120.0</td>\n",
              "      <td>1.65</td>\n",
              "      <td>0.68</td>\n",
              "      <td>0.53</td>\n",
              "      <td>1.46</td>\n",
              "      <td>9.30</td>\n",
              "      <td>0.60</td>\n",
              "      <td>1.62</td>\n",
              "      <td>840.0</td>\n",
              "      <td>2.0</td>\n",
              "    </tr>\n",
              "    <tr>\n",
              "      <th>177</th>\n",
              "      <td>14.13</td>\n",
              "      <td>4.10</td>\n",
              "      <td>2.74</td>\n",
              "      <td>24.5</td>\n",
              "      <td>96.0</td>\n",
              "      <td>2.05</td>\n",
              "      <td>0.76</td>\n",
              "      <td>0.56</td>\n",
              "      <td>1.35</td>\n",
              "      <td>9.20</td>\n",
              "      <td>0.61</td>\n",
              "      <td>1.60</td>\n",
              "      <td>560.0</td>\n",
              "      <td>2.0</td>\n",
              "    </tr>\n",
              "  </tbody>\n",
              "</table>\n",
              "<p>178 rows × 14 columns</p>\n",
              "</div>\n",
              "    <div class=\"colab-df-buttons\">\n",
              "\n",
              "  <div class=\"colab-df-container\">\n",
              "    <button class=\"colab-df-convert\" onclick=\"convertToInteractive('df-ab8179ec-43bd-4558-8795-15bbe5f19bc0')\"\n",
              "            title=\"Convert this dataframe to an interactive table.\"\n",
              "            style=\"display:none;\">\n",
              "\n",
              "  <svg xmlns=\"http://www.w3.org/2000/svg\" height=\"24px\" viewBox=\"0 -960 960 960\">\n",
              "    <path d=\"M120-120v-720h720v720H120Zm60-500h600v-160H180v160Zm220 220h160v-160H400v160Zm0 220h160v-160H400v160ZM180-400h160v-160H180v160Zm440 0h160v-160H620v160ZM180-180h160v-160H180v160Zm440 0h160v-160H620v160Z\"/>\n",
              "  </svg>\n",
              "    </button>\n",
              "\n",
              "  <style>\n",
              "    .colab-df-container {\n",
              "      display:flex;\n",
              "      gap: 12px;\n",
              "    }\n",
              "\n",
              "    .colab-df-convert {\n",
              "      background-color: #E8F0FE;\n",
              "      border: none;\n",
              "      border-radius: 50%;\n",
              "      cursor: pointer;\n",
              "      display: none;\n",
              "      fill: #1967D2;\n",
              "      height: 32px;\n",
              "      padding: 0 0 0 0;\n",
              "      width: 32px;\n",
              "    }\n",
              "\n",
              "    .colab-df-convert:hover {\n",
              "      background-color: #E2EBFA;\n",
              "      box-shadow: 0px 1px 2px rgba(60, 64, 67, 0.3), 0px 1px 3px 1px rgba(60, 64, 67, 0.15);\n",
              "      fill: #174EA6;\n",
              "    }\n",
              "\n",
              "    .colab-df-buttons div {\n",
              "      margin-bottom: 4px;\n",
              "    }\n",
              "\n",
              "    [theme=dark] .colab-df-convert {\n",
              "      background-color: #3B4455;\n",
              "      fill: #D2E3FC;\n",
              "    }\n",
              "\n",
              "    [theme=dark] .colab-df-convert:hover {\n",
              "      background-color: #434B5C;\n",
              "      box-shadow: 0px 1px 3px 1px rgba(0, 0, 0, 0.15);\n",
              "      filter: drop-shadow(0px 1px 2px rgba(0, 0, 0, 0.3));\n",
              "      fill: #FFFFFF;\n",
              "    }\n",
              "  </style>\n",
              "\n",
              "    <script>\n",
              "      const buttonEl =\n",
              "        document.querySelector('#df-ab8179ec-43bd-4558-8795-15bbe5f19bc0 button.colab-df-convert');\n",
              "      buttonEl.style.display =\n",
              "        google.colab.kernel.accessAllowed ? 'block' : 'none';\n",
              "\n",
              "      async function convertToInteractive(key) {\n",
              "        const element = document.querySelector('#df-ab8179ec-43bd-4558-8795-15bbe5f19bc0');\n",
              "        const dataTable =\n",
              "          await google.colab.kernel.invokeFunction('convertToInteractive',\n",
              "                                                    [key], {});\n",
              "        if (!dataTable) return;\n",
              "\n",
              "        const docLinkHtml = 'Like what you see? Visit the ' +\n",
              "          '<a target=\"_blank\" href=https://colab.research.google.com/notebooks/data_table.ipynb>data table notebook</a>'\n",
              "          + ' to learn more about interactive tables.';\n",
              "        element.innerHTML = '';\n",
              "        dataTable['output_type'] = 'display_data';\n",
              "        await google.colab.output.renderOutput(dataTable, element);\n",
              "        const docLink = document.createElement('div');\n",
              "        docLink.innerHTML = docLinkHtml;\n",
              "        element.appendChild(docLink);\n",
              "      }\n",
              "    </script>\n",
              "  </div>\n",
              "\n",
              "\n",
              "<div id=\"df-bd0aec82-56d8-498c-8515-e5e12872aebe\">\n",
              "  <button class=\"colab-df-quickchart\" onclick=\"quickchart('df-bd0aec82-56d8-498c-8515-e5e12872aebe')\"\n",
              "            title=\"Suggest charts\"\n",
              "            style=\"display:none;\">\n",
              "\n",
              "<svg xmlns=\"http://www.w3.org/2000/svg\" height=\"24px\"viewBox=\"0 0 24 24\"\n",
              "     width=\"24px\">\n",
              "    <g>\n",
              "        <path d=\"M19 3H5c-1.1 0-2 .9-2 2v14c0 1.1.9 2 2 2h14c1.1 0 2-.9 2-2V5c0-1.1-.9-2-2-2zM9 17H7v-7h2v7zm4 0h-2V7h2v10zm4 0h-2v-4h2v4z\"/>\n",
              "    </g>\n",
              "</svg>\n",
              "  </button>\n",
              "\n",
              "<style>\n",
              "  .colab-df-quickchart {\n",
              "      --bg-color: #E8F0FE;\n",
              "      --fill-color: #1967D2;\n",
              "      --hover-bg-color: #E2EBFA;\n",
              "      --hover-fill-color: #174EA6;\n",
              "      --disabled-fill-color: #AAA;\n",
              "      --disabled-bg-color: #DDD;\n",
              "  }\n",
              "\n",
              "  [theme=dark] .colab-df-quickchart {\n",
              "      --bg-color: #3B4455;\n",
              "      --fill-color: #D2E3FC;\n",
              "      --hover-bg-color: #434B5C;\n",
              "      --hover-fill-color: #FFFFFF;\n",
              "      --disabled-bg-color: #3B4455;\n",
              "      --disabled-fill-color: #666;\n",
              "  }\n",
              "\n",
              "  .colab-df-quickchart {\n",
              "    background-color: var(--bg-color);\n",
              "    border: none;\n",
              "    border-radius: 50%;\n",
              "    cursor: pointer;\n",
              "    display: none;\n",
              "    fill: var(--fill-color);\n",
              "    height: 32px;\n",
              "    padding: 0;\n",
              "    width: 32px;\n",
              "  }\n",
              "\n",
              "  .colab-df-quickchart:hover {\n",
              "    background-color: var(--hover-bg-color);\n",
              "    box-shadow: 0 1px 2px rgba(60, 64, 67, 0.3), 0 1px 3px 1px rgba(60, 64, 67, 0.15);\n",
              "    fill: var(--button-hover-fill-color);\n",
              "  }\n",
              "\n",
              "  .colab-df-quickchart-complete:disabled,\n",
              "  .colab-df-quickchart-complete:disabled:hover {\n",
              "    background-color: var(--disabled-bg-color);\n",
              "    fill: var(--disabled-fill-color);\n",
              "    box-shadow: none;\n",
              "  }\n",
              "\n",
              "  .colab-df-spinner {\n",
              "    border: 2px solid var(--fill-color);\n",
              "    border-color: transparent;\n",
              "    border-bottom-color: var(--fill-color);\n",
              "    animation:\n",
              "      spin 1s steps(1) infinite;\n",
              "  }\n",
              "\n",
              "  @keyframes spin {\n",
              "    0% {\n",
              "      border-color: transparent;\n",
              "      border-bottom-color: var(--fill-color);\n",
              "      border-left-color: var(--fill-color);\n",
              "    }\n",
              "    20% {\n",
              "      border-color: transparent;\n",
              "      border-left-color: var(--fill-color);\n",
              "      border-top-color: var(--fill-color);\n",
              "    }\n",
              "    30% {\n",
              "      border-color: transparent;\n",
              "      border-left-color: var(--fill-color);\n",
              "      border-top-color: var(--fill-color);\n",
              "      border-right-color: var(--fill-color);\n",
              "    }\n",
              "    40% {\n",
              "      border-color: transparent;\n",
              "      border-right-color: var(--fill-color);\n",
              "      border-top-color: var(--fill-color);\n",
              "    }\n",
              "    60% {\n",
              "      border-color: transparent;\n",
              "      border-right-color: var(--fill-color);\n",
              "    }\n",
              "    80% {\n",
              "      border-color: transparent;\n",
              "      border-right-color: var(--fill-color);\n",
              "      border-bottom-color: var(--fill-color);\n",
              "    }\n",
              "    90% {\n",
              "      border-color: transparent;\n",
              "      border-bottom-color: var(--fill-color);\n",
              "    }\n",
              "  }\n",
              "</style>\n",
              "\n",
              "  <script>\n",
              "    async function quickchart(key) {\n",
              "      const quickchartButtonEl =\n",
              "        document.querySelector('#' + key + ' button');\n",
              "      quickchartButtonEl.disabled = true;  // To prevent multiple clicks.\n",
              "      quickchartButtonEl.classList.add('colab-df-spinner');\n",
              "      try {\n",
              "        const charts = await google.colab.kernel.invokeFunction(\n",
              "            'suggestCharts', [key], {});\n",
              "      } catch (error) {\n",
              "        console.error('Error during call to suggestCharts:', error);\n",
              "      }\n",
              "      quickchartButtonEl.classList.remove('colab-df-spinner');\n",
              "      quickchartButtonEl.classList.add('colab-df-quickchart-complete');\n",
              "    }\n",
              "    (() => {\n",
              "      let quickchartButtonEl =\n",
              "        document.querySelector('#df-bd0aec82-56d8-498c-8515-e5e12872aebe button');\n",
              "      quickchartButtonEl.style.display =\n",
              "        google.colab.kernel.accessAllowed ? 'block' : 'none';\n",
              "    })();\n",
              "  </script>\n",
              "</div>\n",
              "\n",
              "  <div id=\"id_15d3e512-f0d6-44c6-9060-8321159b5bbf\">\n",
              "    <style>\n",
              "      .colab-df-generate {\n",
              "        background-color: #E8F0FE;\n",
              "        border: none;\n",
              "        border-radius: 50%;\n",
              "        cursor: pointer;\n",
              "        display: none;\n",
              "        fill: #1967D2;\n",
              "        height: 32px;\n",
              "        padding: 0 0 0 0;\n",
              "        width: 32px;\n",
              "      }\n",
              "\n",
              "      .colab-df-generate:hover {\n",
              "        background-color: #E2EBFA;\n",
              "        box-shadow: 0px 1px 2px rgba(60, 64, 67, 0.3), 0px 1px 3px 1px rgba(60, 64, 67, 0.15);\n",
              "        fill: #174EA6;\n",
              "      }\n",
              "\n",
              "      [theme=dark] .colab-df-generate {\n",
              "        background-color: #3B4455;\n",
              "        fill: #D2E3FC;\n",
              "      }\n",
              "\n",
              "      [theme=dark] .colab-df-generate:hover {\n",
              "        background-color: #434B5C;\n",
              "        box-shadow: 0px 1px 3px 1px rgba(0, 0, 0, 0.15);\n",
              "        filter: drop-shadow(0px 1px 2px rgba(0, 0, 0, 0.3));\n",
              "        fill: #FFFFFF;\n",
              "      }\n",
              "    </style>\n",
              "    <button class=\"colab-df-generate\" onclick=\"generateWithVariable('df_wine')\"\n",
              "            title=\"Generate code using this dataframe.\"\n",
              "            style=\"display:none;\">\n",
              "\n",
              "  <svg xmlns=\"http://www.w3.org/2000/svg\" height=\"24px\"viewBox=\"0 0 24 24\"\n",
              "       width=\"24px\">\n",
              "    <path d=\"M7,19H8.4L18.45,9,17,7.55,7,17.6ZM5,21V16.75L18.45,3.32a2,2,0,0,1,2.83,0l1.4,1.43a1.91,1.91,0,0,1,.58,1.4,1.91,1.91,0,0,1-.58,1.4L9.25,21ZM18.45,9,17,7.55Zm-12,3A5.31,5.31,0,0,0,4.9,8.1,5.31,5.31,0,0,0,1,6.5,5.31,5.31,0,0,0,4.9,4.9,5.31,5.31,0,0,0,6.5,1,5.31,5.31,0,0,0,8.1,4.9,5.31,5.31,0,0,0,12,6.5,5.46,5.46,0,0,0,6.5,12Z\"/>\n",
              "  </svg>\n",
              "    </button>\n",
              "    <script>\n",
              "      (() => {\n",
              "      const buttonEl =\n",
              "        document.querySelector('#id_15d3e512-f0d6-44c6-9060-8321159b5bbf button.colab-df-generate');\n",
              "      buttonEl.style.display =\n",
              "        google.colab.kernel.accessAllowed ? 'block' : 'none';\n",
              "\n",
              "      buttonEl.onclick = () => {\n",
              "        google.colab.notebook.generateWithVariable('df_wine');\n",
              "      }\n",
              "      })();\n",
              "    </script>\n",
              "  </div>\n",
              "\n",
              "    </div>\n",
              "  </div>\n"
            ],
            "application/vnd.google.colaboratory.intrinsic+json": {
              "type": "dataframe",
              "variable_name": "df_wine",
              "summary": "{\n  \"name\": \"df_wine\",\n  \"rows\": 178,\n  \"fields\": [\n    {\n      \"column\": \"alcohol\",\n      \"properties\": {\n        \"dtype\": \"number\",\n        \"std\": 0.8118265380058577,\n        \"min\": 11.03,\n        \"max\": 14.83,\n        \"num_unique_values\": 126,\n        \"samples\": [\n          11.62,\n          13.64,\n          13.69\n        ],\n        \"semantic_type\": \"\",\n        \"description\": \"\"\n      }\n    },\n    {\n      \"column\": \"malic_acid\",\n      \"properties\": {\n        \"dtype\": \"number\",\n        \"std\": 1.1171460976144627,\n        \"min\": 0.74,\n        \"max\": 5.8,\n        \"num_unique_values\": 133,\n        \"samples\": [\n          1.21,\n          2.83,\n          1.8\n        ],\n        \"semantic_type\": \"\",\n        \"description\": \"\"\n      }\n    },\n    {\n      \"column\": \"ash\",\n      \"properties\": {\n        \"dtype\": \"number\",\n        \"std\": 0.2743440090608148,\n        \"min\": 1.36,\n        \"max\": 3.23,\n        \"num_unique_values\": 79,\n        \"samples\": [\n          2.31,\n          2.43,\n          2.52\n        ],\n        \"semantic_type\": \"\",\n        \"description\": \"\"\n      }\n    },\n    {\n      \"column\": \"alcalinity_of_ash\",\n      \"properties\": {\n        \"dtype\": \"number\",\n        \"std\": 3.3395637671735052,\n        \"min\": 10.6,\n        \"max\": 30.0,\n        \"num_unique_values\": 63,\n        \"samples\": [\n          25.5,\n          28.5,\n          15.6\n        ],\n        \"semantic_type\": \"\",\n        \"description\": \"\"\n      }\n    },\n    {\n      \"column\": \"magnesium\",\n      \"properties\": {\n        \"dtype\": \"number\",\n        \"std\": 14.282483515295668,\n        \"min\": 70.0,\n        \"max\": 162.0,\n        \"num_unique_values\": 53,\n        \"samples\": [\n          126.0,\n          85.0,\n          162.0\n        ],\n        \"semantic_type\": \"\",\n        \"description\": \"\"\n      }\n    },\n    {\n      \"column\": \"total_phenols\",\n      \"properties\": {\n        \"dtype\": \"number\",\n        \"std\": 0.6258510488339891,\n        \"min\": 0.98,\n        \"max\": 3.88,\n        \"num_unique_values\": 97,\n        \"samples\": [\n          1.68,\n          2.11,\n          1.35\n        ],\n        \"semantic_type\": \"\",\n        \"description\": \"\"\n      }\n    },\n    {\n      \"column\": \"flavanoids\",\n      \"properties\": {\n        \"dtype\": \"number\",\n        \"std\": 0.9988586850169465,\n        \"min\": 0.34,\n        \"max\": 5.08,\n        \"num_unique_values\": 132,\n        \"samples\": [\n          3.18,\n          2.5,\n          3.17\n        ],\n        \"semantic_type\": \"\",\n        \"description\": \"\"\n      }\n    },\n    {\n      \"column\": \"nonflavanoid_phenols\",\n      \"properties\": {\n        \"dtype\": \"number\",\n        \"std\": 0.12445334029667939,\n        \"min\": 0.13,\n        \"max\": 0.66,\n        \"num_unique_values\": 39,\n        \"samples\": [\n          0.58,\n          0.41,\n          0.39\n        ],\n        \"semantic_type\": \"\",\n        \"description\": \"\"\n      }\n    },\n    {\n      \"column\": \"proanthocyanins\",\n      \"properties\": {\n        \"dtype\": \"number\",\n        \"std\": 0.5723588626747611,\n        \"min\": 0.41,\n        \"max\": 3.58,\n        \"num_unique_values\": 101,\n        \"samples\": [\n          0.75,\n          1.77,\n          1.42\n        ],\n        \"semantic_type\": \"\",\n        \"description\": \"\"\n      }\n    },\n    {\n      \"column\": \"color_intensity\",\n      \"properties\": {\n        \"dtype\": \"number\",\n        \"std\": 2.318285871822413,\n        \"min\": 1.28,\n        \"max\": 13.0,\n        \"num_unique_values\": 132,\n        \"samples\": [\n          2.95,\n          3.3,\n          5.1\n        ],\n        \"semantic_type\": \"\",\n        \"description\": \"\"\n      }\n    },\n    {\n      \"column\": \"hue\",\n      \"properties\": {\n        \"dtype\": \"number\",\n        \"std\": 0.22857156582982338,\n        \"min\": 0.48,\n        \"max\": 1.71,\n        \"num_unique_values\": 78,\n        \"samples\": [\n          1.22,\n          1.04,\n          1.45\n        ],\n        \"semantic_type\": \"\",\n        \"description\": \"\"\n      }\n    },\n    {\n      \"column\": \"od280/od315_of_diluted_wines\",\n      \"properties\": {\n        \"dtype\": \"number\",\n        \"std\": 0.7099904287650505,\n        \"min\": 1.27,\n        \"max\": 4.0,\n        \"num_unique_values\": 122,\n        \"samples\": [\n          4.0,\n          1.82,\n          1.59\n        ],\n        \"semantic_type\": \"\",\n        \"description\": \"\"\n      }\n    },\n    {\n      \"column\": \"proline\",\n      \"properties\": {\n        \"dtype\": \"number\",\n        \"std\": 314.9074742768489,\n        \"min\": 278.0,\n        \"max\": 1680.0,\n        \"num_unique_values\": 121,\n        \"samples\": [\n          1375.0,\n          1270.0,\n          735.0\n        ],\n        \"semantic_type\": \"\",\n        \"description\": \"\"\n      }\n    },\n    {\n      \"column\": \"targets\",\n      \"properties\": {\n        \"dtype\": \"number\",\n        \"std\": 0.7750349899850565,\n        \"min\": 0.0,\n        \"max\": 2.0,\n        \"num_unique_values\": 3,\n        \"samples\": [\n          0.0,\n          1.0,\n          2.0\n        ],\n        \"semantic_type\": \"\",\n        \"description\": \"\"\n      }\n    }\n  ]\n}"
            }
          },
          "metadata": {},
          "execution_count": 32
        }
      ],
      "source": [
        "wine_dataset = load_wine()\n",
        "df_wine = pd.DataFrame(data=np.c_[wine_dataset['data'], wine_dataset['target']], columns=wine_dataset['feature_names'] + ['targets'])\n",
        "df_wine"
      ]
    },
    {
      "cell_type": "markdown",
      "metadata": {
        "id": "8X9PNczKILza"
      },
      "source": [
        "\n",
        "### II. Seleccion de las caracteristicas Alcohol, magnesium y color intensity"
      ]
    },
    {
      "cell_type": "code",
      "execution_count": null,
      "metadata": {
        "colab": {
          "base_uri": "https://localhost:8080/"
        },
        "id": "OkNmMl-IILza",
        "outputId": "95df8167-2119-4035-ecd3-53b8bce43748"
      },
      "outputs": [
        {
          "output_type": "execute_result",
          "data": {
            "text/plain": [
              "<seaborn.axisgrid.PairGrid at 0x7bdaff50df00>"
            ]
          },
          "metadata": {},
          "execution_count": 33
        }
      ],
      "source": [
        "data = df_wine[['alcohol', 'magnesium', 'color_intensity', 'targets']]\n",
        "\n",
        "sns.pairplot(data, hue='targets')"
      ]
    },
    {
      "cell_type": "markdown",
      "metadata": {
        "id": "m6GueLTPILza"
      },
      "source": [
        "### III. Se seleccionan dos tipos de vino linealmente separables\n",
        "\n",
        "A partir de los graficos, se seleccionan las clases 0 y 1 que, con las caracteristicas seleccionadas, son linealmente separables\n"
      ]
    },
    {
      "cell_type": "code",
      "execution_count": null,
      "metadata": {
        "id": "W7icsOg9ILza"
      },
      "outputs": [],
      "source": [
        "target = 2.0\n",
        "\n",
        "data_filtered = data[data['targets'] != target]\n",
        "\n",
        "sns.pairplot(data_filtered, hue='targets')"
      ]
    },
    {
      "cell_type": "code",
      "source": [
        "\n",
        "X = np.array([[row['alcohol'],row['magnesium'],row['color_intensity']] for _, row in data_filtered.iterrows()])\n",
        "Y = np.array([row['targets'] for _, row in data_filtered.iterrows()])\n",
        "\n",
        "# Se normalizan los datos\n",
        "sc = StandardScaler()\n",
        "sc.fit(X)\n",
        "X_std = sc.transform(X)\n"
      ],
      "metadata": {
        "id": "YxZ2d7dQwSVm"
      },
      "execution_count": null,
      "outputs": []
    },
    {
      "cell_type": "code",
      "source": [
        "# Graficamos los puntos, se ve aun mejor que son linealmente separables\n",
        "fig = plt.figure()\n",
        "ax = fig.add_subplot(111, projection='3d')\n",
        "scatter = ax.scatter(X_std[:, 0], X_std[:, 1], X_std[:, 2], c=Y)\n",
        "ax.set(xlabel='alcohol', ylabel='magnesium', zlabel='color_intensity')\n",
        "ax.legend(scatter.legend_elements()[0], np.unique(data_filtered['targets']), loc='upper right', title=\"Classes\")\n",
        "plt.show()\n"
      ],
      "metadata": {
        "id": "ZkkU88C9pOqu"
      },
      "execution_count": null,
      "outputs": []
    },
    {
      "cell_type": "markdown",
      "metadata": {
        "id": "PwJPBVEqILza"
      },
      "source": [
        "### IV. Division de la data en entrenamiento y evaluación"
      ]
    },
    {
      "cell_type": "code",
      "execution_count": null,
      "metadata": {
        "id": "YKw96GVFILzb"
      },
      "outputs": [],
      "source": [
        "x_train, x_test, y_train, y_test = train_test_split(X_std, Y, test_size=0.33, shuffle=True)"
      ]
    },
    {
      "cell_type": "markdown",
      "metadata": {
        "id": "AFfAN0XjILzb"
      },
      "source": [
        "### V.Implementacion de Perceptron Simple para clasificación binaria\n",
        "\n",
        "Se calcula la propagación **hacia delante** en donde cada peso se multiplica por la entrada. El valor de cada peso representa lo importante de cada característica en la predicción. Para el cálculo de la propagación hacia delante se realizan las siguiente operaciones\n",
        "La función de activación:\n",
        "$$\n",
        "\\phi(z) = \\begin{cases}\n",
        "1 & z \\geq 0 \\\\\n",
        "0 & z < 0\n",
        "\\end{cases} \\\\\n",
        "ó\\\\\n",
        "\\phi(z) = z \\\\\n",
        "$$\n",
        "Para la clasificacion binaria se utilizara la primera funcion de activación, l\n",
        "\n",
        "\n",
        "z es una regresion lineal, donde cada w es un peso para cada x de entrada\n",
        "\\\n",
        "$$\n",
        "z = w_1x_1 + w_2x_2 + \\ldots + w_nx_n + b\n",
        "$$\n",
        "\n",
        "Luego, se calcula la **propagación hacia detrás** derivando la función de costo (error cuadratico medio) con respecto a cada uno de los pesos.\n",
        "\n",
        "$$\n",
        "\\frac{\\partial E}{\\partial w_{ij}} = \\frac{\\partial E}{\\partial \\hat{y}} \\frac{\\partial \\hat{y}}{\\partial z_i} \\frac{\\partial z_i}{\\partial w_{ij}}\n",
        "$$\n",
        "\n",
        "De modo que se ajustan los pesos, mientras mayor sea el error, se realiza un mayor ajuste:\n",
        "$$\n",
        "w_{ij}^{nueva} = w_{ij}^{antigua} - \\alpha \\frac{\\partial E}{\\partial w_{ij}}\n",
        "$$"
      ]
    },
    {
      "cell_type": "code",
      "execution_count": null,
      "metadata": {
        "id": "S0rUdeHOILzb"
      },
      "outputs": [],
      "source": [
        "class ActivationFunction:\n",
        "    f = None\n",
        "    df = None\n",
        "\n",
        "    def __init__(self, f, df):\n",
        "        self.f = f\n",
        "        self.df = df\n",
        "\n",
        "    def activate(self,x):\n",
        "        return self.f(x)\n",
        "\n",
        "    def derivative(self,x):\n",
        "        return self.df(x)\n",
        "\n",
        "# Implementación propia del perceptron\n",
        "class Perceptron:\n",
        "\n",
        "    W = None\n",
        "    b = 0\n",
        "    f_activation : ActivationFunction = None\n",
        "\n",
        "    def __init__(self, input_shape=1, activation='identity'):\n",
        "        if ( not isinstance(input_shape, int) ):\n",
        "            raise Exception(f'input_shape must be an integer, given {type(input_shape)}')\n",
        "        # Los pesos y bias son inicializados, input_shape indica el numero de\n",
        "        # neuronas en la capa de entrada\n",
        "        self.W = np.array([random.uniform(0.01, 0.1) for _ in range(input_shape)])\n",
        "        self.b = random.uniform(0.01, 0.1)\n",
        "        self.f_activation=  self.__activation_parser(activation)\n",
        "\n",
        "    # Parsea por la función la función de activación correspondiente\n",
        "    def __activation_parser(self, activation):\n",
        "        match(activation):\n",
        "            # Función de activación para realizar la regresión lineal\n",
        "            case \"identity\":\n",
        "                func = lambda x : 1 * x\n",
        "                d_func = lambda x : x * 1\n",
        "            # Función de activación para realizar la clasificación\n",
        "            case \"conditional\":\n",
        "                func = lambda x : 1 if (x > 0) else 0\n",
        "                d_func = lambda x : x * 1\n",
        "            case _:\n",
        "                raise Exception(f'activation must be identity or conditional, given {activation}')\n",
        "        return ActivationFunction(func, d_func)\n",
        "\n",
        "    # Calcula la propagación hacia adelante\n",
        "    def __feedfoward_prop(self, X):\n",
        "        # Calculamos la regresión lineal, multiplicando los datos de entrada\n",
        "        # por los pesos correspondientes y aplicamos la funcion de activacion\n",
        "        lineal_regression_result = np.dot(X, self.W.T) + self.b\n",
        "        return self.f_activation.activate(lineal_regression_result)\n",
        "\n",
        "    # Propagación hacia atras ajustando los valores de w y el valor de b\n",
        "    def __backward_prop(self, X, Y_pred, Y, alpha):\n",
        "        W_next = np.copy(self.W)\n",
        "        b_next = self.b\n",
        "        # Ajustamos cada peso\n",
        "        for i in range(W_next.shape[0]):\n",
        "            # mientras más elevado sea el error, un ajuste mayor se realiza\n",
        "            W_next[i] += alpha * ( Y - Y_pred ) * X[i]\n",
        "        # Ajustamos el bias\n",
        "        b_next = b_next + alpha * ( Y - Y_pred )\n",
        "        return (W_next, b_next)\n",
        "\n",
        "    def __calculate_loss_squared(self, y_pred, y):\n",
        "        return (y - y_pred)**2\n",
        "\n",
        "    def get_weights(self):\n",
        "        return (self.W, self.b)\n",
        "\n",
        "    def fit(self,X,Y,epochs=2, alpha=0.5, verbose = False):\n",
        "        if ( not isinstance(X, np.ndarray) or not isinstance(Y, np.ndarray)):\n",
        "            raise Exception(f'X and Y must be a numpy array, given {type(X)} {type(Y)}')\n",
        "        # Arreglo para guardar los errores por época\n",
        "        history = np.zeros(epochs)\n",
        "        for epoch in range(epochs):\n",
        "            error = np.zeros(X.shape[0])\n",
        "            # Por cada punto, se calcula la propagación hacia delante\n",
        "            # y la propagación hacia atrás\n",
        "            for n_sample, sample in enumerate(X):\n",
        "                y = Y[n_sample]\n",
        "                y_pred = self.__feedfoward_prop(sample)\n",
        "                self.W, self.b = self.__backward_prop(sample, y_pred, y, alpha)\n",
        "                error[n_sample] = self.__calculate_loss_squared(y_pred, y)\n",
        "            # calculamos el error cuadratico medio mediante los errores obtenidos\n",
        "            mean_square_error = sum(error) / n_sample\n",
        "            if ( verbose ):\n",
        "                print(f\"Epoch {epoch + 1}/{epochs} loss: {mean_square_error}\")\n",
        "            history[epoch] = mean_square_error\n",
        "        return history\n",
        "\n",
        "    def predict(self, X):\n",
        "        y_pred = np.zeros(X.shape[0])\n",
        "        # Para las predicciones se calcula la propagación hacia delante de\n",
        "        # cada dato\n",
        "        for i, row in enumerate(X):\n",
        "            y_pred[i] = self.__feedfoward_prop(row)\n",
        "        return y_pred\n",
        "\n"
      ]
    },
    {
      "cell_type": "markdown",
      "metadata": {
        "id": "kTFs6hcCILzb"
      },
      "source": [
        "### VI. Entrenamiento\n",
        "Para el entrenamiento se escogera la función de activación\n",
        "$$\n",
        "\\phi(z) = \\begin{cases}\n",
        "1 & z \\geq 0 \\\\\n",
        "0 & z < 0\n",
        "\\end{cases} \\\\\n",
        "$$"
      ]
    },
    {
      "cell_type": "code",
      "execution_count": null,
      "metadata": {
        "id": "dvNNXytFILzb"
      },
      "outputs": [],
      "source": [
        "model = Perceptron(input_shape=3, activation='conditional')\n",
        "\n",
        "model.fit(x_train, y_train, epochs=1500, alpha=0.014)\n",
        "\n",
        "y_pred_own = model.predict(x_test)"
      ]
    },
    {
      "cell_type": "markdown",
      "source": [
        "### VI.a Graficamos el plano de separacion con los pesos"
      ],
      "metadata": {
        "id": "TPjnwr2r5wvs"
      }
    },
    {
      "cell_type": "code",
      "source": [
        "%matplotlib widget\n",
        "# Intervalo X\n",
        "ax = np.min(x_train[:,0])\n",
        "bx = np.max(x_train[:,0])\n",
        "# Intervalo Y\n",
        "ay = np.min(x_train[:,1])\n",
        "by = np.max(x_train[:,1])\n",
        "muestras = 100\n",
        "\n",
        "(weights, bias) = model.get_weights()\n",
        "# gráfica del plano separador\n",
        "xi = np.linspace(ax,bx, muestras)\n",
        "yi = np.linspace(ay,by, muestras)\n",
        "Xi, Yi = np.meshgrid(xi,yi)\n",
        "z = lambda x,y: (-weights[0]*x - weights[1]*y + bias)/weights[2]\n",
        "Z0 = z(Xi,Yi)\n",
        "\n",
        "figura = plt.figure()\n",
        "ax = figura.add_subplot(111, projection='3d')\n",
        "scatter = ax.scatter(X_std[:, 0], X_std[:, 1], X_std[:, 2], c=Y)\n",
        "ax.plot_surface(Xi,Yi,Z0,color ='red',label='Pendiente', alpha = 0.5)\n",
        "ax.set_title('Separacion de los datos por el plano separador')\n",
        "ax.set_xlabel('alcohol')\n",
        "ax.set_ylabel('magnesium')\n",
        "ax.set_zlabel('color intensity')\n",
        "ax.legend(scatter.legend_elements()[0], np.unique(data_filtered['targets']), loc='upper right', title=\"Classes\")\n",
        "# rotacion de ejes\n",
        "ax.view_init(60,180)\n",
        "plt.show()"
      ],
      "metadata": {
        "id": "UNGA1v_cy1Wy"
      },
      "execution_count": null,
      "outputs": []
    },
    {
      "cell_type": "markdown",
      "source": [
        "### VII. Comparamos con la implementación de SKlearn\n",
        "\n",
        "Se puede observar que la implementación propia tiene un desempeño similar comparada con la del modulo sklearn"
      ],
      "metadata": {
        "id": "XxDSDW6z6fHQ"
      }
    },
    {
      "cell_type": "code",
      "source": [
        "# Instanciación, entrenamineto y predicción del modelo de sklearn\n",
        "clf = SklearnPerceptron(tol=1e-3, random_state=0)\n",
        "clf.fit(x_train, y_train)\n",
        "y_pred_sklearn = clf.predict(x_test)\n",
        "\n",
        "# Mostramos los reportes de clasificación de la implementación propia\n",
        "# y de sklearn\n",
        "print(\"Reporte de implementación propia\")\n",
        "print(classification_report(y_test, y_pred_own))\n",
        "print(\"Reporte de implementación sklearn\")\n",
        "print(classification_report(y_test, y_pred_sklearn))\n",
        "\n",
        "# Mostramos las matrices de confusión de ambas implementaciones\n",
        "own_matrix = confusion_matrix(y_test, y_pred_own)\n",
        "sklearn_matrix = confusion_matrix(y_test, y_pred_sklearn)\n",
        "\n",
        "ownMatrixDisplay = ConfusionMatrixDisplay(\n",
        "    confusion_matrix=own_matrix,\n",
        "    display_labels=[\"0\", \"1\"],\n",
        ")\n",
        "ownMatrixDisplay.plot()\n",
        "plt.title(\"Matriz de confusión - implementación propia\")\n",
        "plt.show()\n",
        "sklearnMatrixDisplay = ConfusionMatrixDisplay(\n",
        "    confusion_matrix=sklearn_matrix, display_labels=[\"0\", \"1\"]\n",
        ")\n",
        "sklearnMatrixDisplay.plot()\n",
        "plt.title(\"Matriz de confusión - implementación sklearn\")\n",
        "plt.show()"
      ],
      "metadata": {
        "id": "Ks_OquIlenJf"
      },
      "execution_count": null,
      "outputs": []
    },
    {
      "cell_type": "markdown",
      "metadata": {
        "id": "qTDcN_RiILzb"
      },
      "source": [
        "## Regresion"
      ]
    },
    {
      "cell_type": "markdown",
      "source": [
        "Para los problemas de regresión, usaremos la misma implementación solo que le indicaremos la funcion de activación a usar es la de **identidad**."
      ],
      "metadata": {
        "id": "prbnxkBU8dJQ"
      }
    },
    {
      "cell_type": "markdown",
      "source": [
        "### I. Cargamos los datos y los dividimos en entrenamieneto y evaluación"
      ],
      "metadata": {
        "id": "VkNwAvkS8oyj"
      }
    },
    {
      "cell_type": "code",
      "execution_count": null,
      "metadata": {
        "id": "KBYHSE0cILzb"
      },
      "outputs": [],
      "source": [
        "\n",
        "score_dataset = pd.read_csv('./dataset/score.csv')\n",
        "# Nuestra X seran las horas y las Y los puntajes\n",
        "X = np.array([[row['Hours']] for _, row in score_dataset.iterrows()])\n",
        "Y = np.array([[row['Scores']] for _, row in score_dataset.iterrows()])\n",
        "# Separamos los datos de entrenamiento de los de evaluación\n",
        "x_train, x_test, y_train, y_test = train_test_split(X, Y, test_size=0.33, shuffle=True)"
      ]
    },
    {
      "cell_type": "markdown",
      "source": [
        "### II. Graficamos y observamos que se trata de un problema lineal"
      ],
      "metadata": {
        "id": "H7pTfWTw86UU"
      }
    },
    {
      "cell_type": "code",
      "execution_count": null,
      "metadata": {
        "id": "4WPGd12RILzb"
      },
      "outputs": [],
      "source": [
        "plt.plot(X,Y, 'o')"
      ]
    },
    {
      "cell_type": "markdown",
      "source": [
        "### III. Instanciación del modelo, entrenamiento y predicción"
      ],
      "metadata": {
        "id": "Z8jynKYrCTDt"
      }
    },
    {
      "cell_type": "code",
      "source": [
        "model = Perceptron(input_shape=1, activation='identity')\n",
        "history = model.fit(x_train, y_train, epochs=25, alpha=0.0010, verbose=False)\n",
        "y_pred_own = model.predict(x_test)"
      ],
      "metadata": {
        "id": "gvkwGPNWAngs"
      },
      "execution_count": null,
      "outputs": []
    },
    {
      "cell_type": "code",
      "source": [
        "reg = LinearRegression().fit(x_train, y_train)\n",
        "y_pred_sklearn = reg.predict(x_test)"
      ],
      "metadata": {
        "id": "rN-1FfmNK8mg"
      },
      "execution_count": null,
      "outputs": []
    },
    {
      "cell_type": "markdown",
      "source": [
        "### IV. Graficamos la recta con los pesos obtenidos"
      ],
      "metadata": {
        "id": "8-FeSXJJCRMk"
      }
    },
    {
      "cell_type": "code",
      "source": [
        "def f(x, model):\n",
        "    w = model.get_weights()\n",
        "    return x * w[0] + w[1]\n",
        "\n",
        "def f_sklearn(x, coef, intercept):\n",
        "    return x * coef + intercept\n",
        "\n",
        "plt.title(f\"f(x) = {model.get_weights()[0][0]}x + {model.get_weights()[1][0]}\")\n",
        "plt.xlabel(\"Horas de estudio\")\n",
        "plt.ylabel(\"Puntaje\")\n",
        "plt.plot(X,Y, 'o')\n",
        "plt.plot(X, f_sklearn(X, reg.coef_,reg.intercept_), color = 'green')\n",
        "plt.plot(X, f(X, model), color = 'red')"
      ],
      "metadata": {
        "id": "GCviFDbMB8ry"
      },
      "execution_count": null,
      "outputs": []
    },
    {
      "cell_type": "code",
      "source": [
        "# Gráfica del error\n",
        "plt.title(\"Error en función de las épocas\")\n",
        "plt.xlabel(\"Epochs\")\n",
        "plt.ylabel(\"Error\")\n",
        "plt.plot(range(len(history)), history)"
      ],
      "metadata": {
        "id": "lDrDHVAwAumT"
      },
      "execution_count": null,
      "outputs": []
    },
    {
      "cell_type": "markdown",
      "source": [
        "### V. Mostramos el error"
      ],
      "metadata": {
        "id": "A-lDEL58DzSb"
      }
    },
    {
      "cell_type": "code",
      "execution_count": null,
      "metadata": {
        "id": "Jz1GQT9SILzc"
      },
      "outputs": [],
      "source": [
        "\n",
        "\n",
        "print(\"Error cuadrático implementación propia\",mean_squared_error(y_test, y_pred_own))\n",
        "print(\"Error cuadrático implementación sklearn\",mean_squared_error(y_test, y_pred_sklearn))\n"
      ]
    }
  ],
  "metadata": {
    "kernelspec": {
      "display_name": "Python 3",
      "language": "python",
      "name": "python3"
    },
    "language_info": {
      "codemirror_mode": {
        "name": "ipython",
        "version": 3
      },
      "file_extension": ".py",
      "mimetype": "text/x-python",
      "name": "python",
      "nbconvert_exporter": "python",
      "pygments_lexer": "ipython3",
      "version": "3.11.6"
    },
    "colab": {
      "provenance": []
    }
  },
  "nbformat": 4,
  "nbformat_minor": 0
}